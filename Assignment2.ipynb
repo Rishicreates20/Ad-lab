{
 "cells": [
  {
   "cell_type": "code",
   "execution_count": 3,
   "id": "59e32197-bd87-4d7c-ae37-29ccbf5f9c7c",
   "metadata": {},
   "outputs": [
    {
     "name": "stdin",
     "output_type": "stream",
     "text": [
      "Enter a character:  kiit university\n"
     ]
    },
    {
     "name": "stdout",
     "output_type": "stream",
     "text": [
      "Please enter a single character.\n"
     ]
    }
   ],
   "source": [
    "#Prog to print ASCII value of the character\n",
    "# Get a character input from the user\n",
    "char = input(\"Enter a character: \")\n",
    "\n",
    "# Ensure the input is a single character\n",
    "if len(char) == 1:\n",
    "    # Print the ASCII value using the ord() function\n",
    "    ascii_value = ord(char)\n",
    "    print(f\"The ASCII value of '{char}' is {ascii_value}\")\n",
    "else:\n",
    "    print(\"Please enter a single character.\")\n"
   ]
  },
  {
   "cell_type": "code",
   "execution_count": 5,
   "id": "d28a0baa-feca-400f-a6e3-13989fed6da3",
   "metadata": {},
   "outputs": [
    {
     "name": "stdout",
     "output_type": "stream",
     "text": [
      "1 \n",
      "1 2 \n",
      "1 2 3 \n",
      "1 2 3 4 \n",
      "1 2 3 4 5 \n"
     ]
    }
   ],
   "source": [
    "#q2 WAP to print the following pattern by using Python \n",
    "# Function to print the desired pattern\n",
    "def print_pattern(n):\n",
    "    for i in range(1, n + 1):\n",
    "        for j in range(1, i + 1):\n",
    "            print(j, end=' ')\n",
    "        print()\n",
    "\n",
    "# Example usage\n",
    "n = 5\n",
    "print_pattern(n)\n"
   ]
  },
  {
   "cell_type": "code",
   "execution_count": 13,
   "id": "e01dc36c-6c8f-490c-8ebd-d1a2b00a0421",
   "metadata": {},
   "outputs": [
    {
     "name": "stdin",
     "output_type": "stream",
     "text": [
      "enter the start of the range:  1\n",
      "enter the end of the range:  4\n"
     ]
    },
    {
     "name": "stdout",
     "output_type": "stream",
     "text": [
      "print the numbers between 1 and 4:\n",
      "2 3 \n"
     ]
    }
   ],
   "source": [
    "#q3 print all prime within a given range by using Python\n",
    "\n",
    "def is_prime(num):\n",
    "    if num <=1:\n",
    "        return False\n",
    "    for i in range(2, int(num**0.5)+1):\n",
    "        if num % i == 0:\n",
    "            return False\n",
    "    return True\n",
    "def print_primes_in_range(start, end):\n",
    "\n",
    "    print(f\"print the numbers between {start} and {end}:\")\n",
    "    for num in range(start, end + 1):\n",
    "        if is_prime(num):\n",
    "            print(num, end=' ')\n",
    "    print()\n",
    "\n",
    "start= int(input(\"enter the start of the range: \"))\n",
    "end = int(input(\"enter the end of the range: \"))\n",
    "print_primes_in_range(start, end)"
   ]
  },
  {
   "cell_type": "code",
   "execution_count": 15,
   "id": "78f11d90-0d10-4e02-ba9d-3e4016625e0e",
   "metadata": {},
   "outputs": [
    {
     "name": "stdin",
     "output_type": "stream",
     "text": [
      "Enter the start of the range:  10\n",
      "Enter the end of the range:  30\n"
     ]
    },
    {
     "name": "stdout",
     "output_type": "stream",
     "text": [
      "Prime numbers between 10 and 30:\n",
      "11 13 17 19 23 29 \n"
     ]
    }
   ],
   "source": [
    "#q4 assign a different name to function and call it through a new value\n",
    "# Original function\n",
    "def print_primes_in_range(start, end):\n",
    "    def is_prime(num):\n",
    "        if num <= 1:\n",
    "            return False\n",
    "        for i in range(2, int(num**0.5) + 1):\n",
    "            if num % i == 0:\n",
    "                return False\n",
    "        return True\n",
    "    \n",
    "    print(f\"Prime numbers between {start} and {end}:\")\n",
    "    for num in range(start, end + 1):\n",
    "        if is_prime(num):\n",
    "            print(num, end=' ')\n",
    "    print()\n",
    "\n",
    "# Assigning a different name to the function\n",
    "display_primes = print_primes_in_range\n",
    "\n",
    "# Calling the function through the new name\n",
    "start = int(input(\"Enter the start of the range: \"))\n",
    "end = int(input(\"Enter the end of the range: \"))\n",
    "display_primes(start, end)\n"
   ]
  },
  {
   "cell_type": "code",
   "execution_count": 23,
   "id": "b8052050-33dc-4d8d-9c47-5c04455d48e7",
   "metadata": {},
   "outputs": [
    {
     "name": "stdout",
     "output_type": "stream",
     "text": [
      "Orignal string: PYthoNIs AwesOMe\n",
      "arranged string: thoswesePYNIAOM\n"
     ]
    }
   ],
   "source": [
    "#q5 Arrange string characters Such that lower case letter should come fast\n",
    "def arrange_string(s):\n",
    "    lower_case =  [char for char in s if char in s if char.islower()]\n",
    "    upper_case = [ char for char in s if char in s if char.isupper()]\n",
    "    return ''.join(lower_case + upper_case)\n",
    "#input\n",
    "input_string = \"PYthoNIs AwesOMe\"\n",
    "arranged_string= arrange_string(input_string)\n",
    "print(\"Orignal string:\",input_string)\n",
    "print(\"arranged string:\",arranged_string)"
   ]
  },
  {
   "cell_type": "code",
   "execution_count": 30,
   "id": "cb5ca959-2130-44f9-9f20-ccfd877b7123",
   "metadata": {},
   "outputs": [
    {
     "name": "stdin",
     "output_type": "stream",
     "text": [
      "Enter a string:  hello!@w2orld gud#moring 2u@all\n"
     ]
    },
    {
     "name": "stdout",
     "output_type": "stream",
     "text": [
      "Letters: 23\n",
      "Digits: 2\n",
      "Special Symbols: 6\n"
     ]
    }
   ],
   "source": [
    "#q6 count all the letter , digit and special symbols from a given string\n",
    "# Function to count letters, digits, and special symbols\n",
    "def count_characters(s):\n",
    "    letters = 0\n",
    "    digits = 0\n",
    "    special_symbols = 0\n",
    "\n",
    "    for char in s:\n",
    "        if char.isalpha():\n",
    "            letters += 1\n",
    "        elif char.isdigit():\n",
    "            digits += 1\n",
    "        else:\n",
    "            special_symbols += 1\n",
    "\n",
    "    return letters, digits, special_symbols\n",
    "\n",
    "# input\n",
    "input_string = input(\"Enter a string: \")\n",
    "letters, digits, special_symbols = count_characters(input_string)\n",
    "print(f\"Letters: {letters}\")\n",
    "print(f\"Digits: {digits}\")\n",
    "print(f\"Special Symbols: {special_symbols}\")\n"
   ]
  },
  {
   "cell_type": "code",
   "execution_count": 36,
   "id": "e5d171d4-ea74-4fa1-897f-6ea504117a62",
   "metadata": {},
   "outputs": [
    {
     "name": "stdout",
     "output_type": "stream",
     "text": [
      "Original list: ['apple', '', 'banana', 'orange', '', 'cherry', '', 'date']\n",
      "Cleaned list: ['apple', 'banana', 'orange', 'cherry', 'date']\n"
     ]
    }
   ],
   "source": [
    "#q7 Remove empty string from all the list of the string\n",
    "# Function to remove empty strings from a list\n",
    "def remove_empty_strings(str_list):\n",
    "    return [s for s in str_list if s]\n",
    "\n",
    "# input\n",
    "input_list = [\"apple\", \"\", \"banana\", \"orange\", \"\", \"cherry\", \"\", \"date\"]\n",
    "cleaned_list = remove_empty_strings(input_list)\n",
    "print(\"Original list:\", input_list)\n",
    "print(\"Cleaned list:\", cleaned_list)\n"
   ]
  },
  {
   "cell_type": "code",
   "execution_count": 50,
   "id": "b4ed9f5b-83e9-499e-852e-654206ff43e0",
   "metadata": {},
   "outputs": [
    {
     "name": "stdout",
     "output_type": "stream",
     "text": [
      "Concatenate a: ['hi evening ', 'rishi have ', 'a niceDay ']\n"
     ]
    }
   ],
   "source": [
    "#q8 Concatinate two array  index wise\n",
    "def concatenate_index_wise_comprehension(a1, a2):\n",
    "    return [a1[i] + a2[i]for i in range(min(len(a1), len(a2)))]\n",
    "\n",
    "#input\n",
    "a1=[\"hi \",\"rishi \",\"a nice\"]\n",
    "a2=[\"evening \",\"have \",\"Day \"]\n",
    "result = concatenate_index_wise_comprehension(a1,a2)\n",
    "print(\"Concatenate a:\", result)\n",
    "\n"
   ]
  },
  {
   "cell_type": "code",
   "execution_count": 54,
   "id": "3a1a1407-6155-4c94-bf86-11942ee1d154",
   "metadata": {},
   "outputs": [
    {
     "name": "stdout",
     "output_type": "stream",
     "text": [
      "Original list: [1, 2, 3, 4, 2, 5, 2]\n",
      "Cleaned list: [1, 3, 4, 5]\n"
     ]
    }
   ],
   "source": [
    "#q9 Remove all oprand of a specfic item from a list\n",
    "def remove_all_occurences(lst, item):\n",
    "    return [x for x in lst if x != item]\n",
    "#input\n",
    "input_list = [1, 2, 3, 4, 2, 5, 2]\n",
    "item_to_remove = 2\n",
    "cleaned_list = remove_all_occurences(input_list, item_to_remove)\n",
    "print(\"Original list:\", input_list)\n",
    "print(\"Cleaned list:\", cleaned_list)"
   ]
  },
  {
   "cell_type": "code",
   "execution_count": 56,
   "id": "1c3fb9aa-5867-46b9-9e7e-85097a0f7929",
   "metadata": {},
   "outputs": [
    {
     "name": "stdout",
     "output_type": "stream",
     "text": [
      "The value at index 19 (20th position) is: 19\n"
     ]
    }
   ],
   "source": [
    "#q10 access 20 value from the tuple.\n",
    "# Define a tuple\n",
    "my_tuple = (0, 1, 2, 3, 4, 5, 6, 7, 8, 9, 10, 11, 12, 13, 14, 15, 16, 17, 18, 19, 20, 21, 22)\n",
    "\n",
    "# Access the 20th value (index 19)\n",
    "value_at_20 = my_tuple[19]\n",
    "print(\"The value at index 19 (20th position) is:\", value_at_20)\n"
   ]
  },
  {
   "cell_type": "code",
   "execution_count": 62,
   "id": "6fb118c7-76b9-4feb-95a8-bfb583aa8da5",
   "metadata": {},
   "outputs": [
    {
     "name": "stdout",
     "output_type": "stream",
     "text": [
      "original tuple: (20, 30, 45, 67, 89, 78, 100)\n",
      "New tuple: (45, 67, 89, 78)\n"
     ]
    }
   ],
   "source": [
    "#q11 copy specfic elements from one tuple to new tuple\n",
    "original_tuple = (20,30,45,67,89,78,100)\n",
    "\n",
    "new_tuple = original_tuple[2:6]\n",
    "print(\"original tuple:\", original_tuple)\n",
    "print(\"New tuple:\", new_tuple)"
   ]
  },
  {
   "cell_type": "code",
   "execution_count": null,
   "id": "b26339bb-9777-421a-8580-f582242b0443",
   "metadata": {},
   "outputs": [],
   "source": []
  }
 ],
 "metadata": {
  "kernelspec": {
   "display_name": "Python [conda env:base] *",
   "language": "python",
   "name": "conda-base-py"
  },
  "language_info": {
   "codemirror_mode": {
    "name": "ipython",
    "version": 3
   },
   "file_extension": ".py",
   "mimetype": "text/x-python",
   "name": "python",
   "nbconvert_exporter": "python",
   "pygments_lexer": "ipython3",
   "version": "3.12.7"
  }
 },
 "nbformat": 4,
 "nbformat_minor": 5
}
