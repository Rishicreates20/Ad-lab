{
 "cells": [
  {
   "cell_type": "code",
   "execution_count": 1,
   "id": "ce15a9ae-3883-4290-ae72-7d91558054e0",
   "metadata": {},
   "outputs": [
    {
     "name": "stdout",
     "output_type": "stream",
     "text": [
      "hello\n"
     ]
    }
   ],
   "source": [
    "print(\"hello\")"
   ]
  },
  {
   "cell_type": "code",
   "execution_count": 1,
   "id": "e1112457-a857-4ad2-aab4-cfce3f65277b",
   "metadata": {},
   "outputs": [
    {
     "name": "stdout",
     "output_type": "stream",
     "text": [
      "2\n"
     ]
    }
   ],
   "source": [
    "a=2\n",
    "print(a)"
   ]
  },
  {
   "cell_type": "code",
   "execution_count": 7,
   "id": "7777db63-31df-4044-aab3-dfa3753d7918",
   "metadata": {},
   "outputs": [
    {
     "name": "stdout",
     "output_type": "stream",
     "text": [
      "29\n"
     ]
    }
   ],
   "source": [
    "a=2\n",
    "j=9\n",
    "b=a+3*j\n",
    "print(b)"
   ]
  },
  {
   "cell_type": "code",
   "execution_count": 6,
   "id": "66caabfa-c667-4d2b-96cb-e743cf62f3ec",
   "metadata": {},
   "outputs": [
    {
     "name": "stdout",
     "output_type": "stream",
     "text": [
      "12\n"
     ]
    }
   ],
   "source": [
    "a=2*6\n",
    "print(a)"
   ]
  },
  {
   "cell_type": "code",
   "execution_count": 9,
   "id": "ec0267ce-0f1e-4020-b243-93bf64420d0d",
   "metadata": {},
   "outputs": [
    {
     "name": "stdout",
     "output_type": "stream",
     "text": [
      "0.125\n"
     ]
    }
   ],
   "source": [
    "s=1\n",
    "q=8\n",
    "x=s/q\n",
    "print(x)"
   ]
  },
  {
   "cell_type": "code",
   "execution_count": 15,
   "id": "a3dad7ff-d0b4-4576-9c9c-f15245da77df",
   "metadata": {},
   "outputs": [
    {
     "name": "stdout",
     "output_type": "stream",
     "text": [
      "hello world\n",
      "hello java\n",
      "hello python\n"
     ]
    }
   ],
   "source": [
    "s1=\"hello world\"\n",
    "s2='hello java'\n",
    "s3=\"\"\"hello python\"\"\"\n",
    "print(s1),\n",
    "print(s2),\n",
    "print(s3)"
   ]
  },
  {
   "cell_type": "code",
   "execution_count": 24,
   "id": "efdf287e-2759-4206-b6c1-a64a165ccd97",
   "metadata": {},
   "outputs": [
    {
     "name": "stdout",
     "output_type": "stream",
     "text": [
      "<class 'str'>\n"
     ]
    },
    {
     "data": {
      "text/plain": [
       "(None,)"
      ]
     },
     "execution_count": 24,
     "metadata": {},
     "output_type": "execute_result"
    }
   ],
   "source": [
    "x=\"True\"\n",
    "print(type(x)),\n"
   ]
  },
  {
   "cell_type": "code",
   "execution_count": 26,
   "id": "1dcdb657-e4a5-4547-ad9d-88bb1abb30cb",
   "metadata": {},
   "outputs": [
    {
     "name": "stdout",
     "output_type": "stream",
     "text": [
      "9\n"
     ]
    }
   ],
   "source": [
    "x=3**2\n",
    "print(x)"
   ]
  },
  {
   "cell_type": "code",
   "execution_count": 28,
   "id": "ac286bb0-1fc1-40bf-b8ba-e2b6430bc550",
   "metadata": {},
   "outputs": [
    {
     "name": "stdout",
     "output_type": "stream",
     "text": [
      "20found at index1\n"
     ]
    }
   ],
   "source": [
    "arr=[10,20,30,50]\n",
    "key= 20\n",
    "if key in arr:\n",
    "    print(f\"{key}found at index{arr.index(key)}\")\n",
    "else:\n",
    "    print(f\"{key} not found\")"
   ]
  },
  {
   "cell_type": "code",
   "execution_count": 29,
   "id": "305b008e-f69e-47ab-8d1c-b6d8a05ece12",
   "metadata": {},
   "outputs": [
    {
     "name": "stdout",
     "output_type": "stream",
     "text": [
      "568.345\n"
     ]
    }
   ],
   "source": [
    "stock_price=[123,345,568.345]\n",
    "print(stock_price[2])"
   ]
  },
  {
   "cell_type": "code",
   "execution_count": 30,
   "id": "434268b6-1c18-4526-a30e-16bac4d490d8",
   "metadata": {},
   "outputs": [
    {
     "name": "stdout",
     "output_type": "stream",
     "text": [
      "[1, 2, 3, 4, 5]\n",
      "[1, 2, 'java', 4]\n"
     ]
    }
   ],
   "source": [
    "#syntax list\n",
    "a1=[1,2,3,4,5]\n",
    "print(a1),\n",
    "a2=[1,2,\"java\",4]\n",
    "print(a2)"
   ]
  },
  {
   "cell_type": "code",
   "execution_count": 31,
   "id": "045de7c9-460b-4429-ad60-408c451fa9f3",
   "metadata": {},
   "outputs": [
    {
     "name": "stdout",
     "output_type": "stream",
     "text": [
      "(2, 3, 4, 5)\n"
     ]
    }
   ],
   "source": [
    "#tuples\n",
    "a1=(2,3,4,5)\n",
    "print(a1)"
   ]
  },
  {
   "cell_type": "code",
   "execution_count": 33,
   "id": "9192c49a-fcc6-4166-841c-38f25cb869fd",
   "metadata": {},
   "outputs": [
    {
     "data": {
      "text/plain": [
       "[4, 9, 16, 25, 36]"
      ]
     },
     "execution_count": 33,
     "metadata": {},
     "output_type": "execute_result"
    }
   ],
   "source": [
    "def get_squared_numbers(numbers):\n",
    "    squared_numbers=[]\n",
    "    for n in numbers:\n",
    "        squared_numbers.append(n*n)\n",
    "    return squared_numbers\n",
    "numbers=[2,3,4,5,6]\n",
    "get_squared_numbers(numbers)"
   ]
  },
  {
   "cell_type": "code",
   "execution_count": 36,
   "id": "4a498553-8f0f-49c2-91a4-495feb527b93",
   "metadata": {},
   "outputs": [
    {
     "name": "stdout",
     "output_type": "stream",
     "text": [
      "cse\n"
     ]
    }
   ],
   "source": [
    "#dictonary\n",
    "a1={}\n",
    "a1={1:\"rishi\",2:\"cse\",3:\"btech\"}\n",
    "print(a1[2])"
   ]
  },
  {
   "cell_type": "code",
   "execution_count": 43,
   "id": "368f8f81-6b00-48f6-a7fd-d7a82d0729a8",
   "metadata": {},
   "outputs": [
    {
     "ename": "AttributeError",
     "evalue": "'dict' object has no attribute 'append'",
     "output_type": "error",
     "traceback": [
      "\u001b[1;31m---------------------------------------------------------------------------\u001b[0m",
      "\u001b[1;31mAttributeError\u001b[0m                            Traceback (most recent call last)",
      "Cell \u001b[1;32mIn[43], line 4\u001b[0m\n\u001b[0;32m      1\u001b[0m \u001b[38;5;66;03m#dictonary remove\u001b[39;00m\n\u001b[0;32m      2\u001b[0m a1\u001b[38;5;241m=\u001b[39m{\u001b[38;5;241m1\u001b[39m:\u001b[38;5;124m\"\u001b[39m\u001b[38;5;124msci\u001b[39m\u001b[38;5;124m\"\u001b[39m,\u001b[38;5;241m2\u001b[39m:\u001b[38;5;124m\"\u001b[39m\u001b[38;5;124mconnda\u001b[39m\u001b[38;5;124m\"\u001b[39m,\u001b[38;5;241m3\u001b[39m:\u001b[38;5;124m\"\u001b[39m\u001b[38;5;124mc++\u001b[39m\u001b[38;5;124m\"\u001b[39m}\n\u001b[1;32m----> 4\u001b[0m a1\u001b[38;5;241m.\u001b[39mappend[\u001b[38;5;124m\"\u001b[39m\u001b[38;5;124mjava\u001b[39m\u001b[38;5;124m\"\u001b[39m]\n\u001b[0;32m      5\u001b[0m a1\u001b[38;5;241m.\u001b[39mremove(a[\u001b[38;5;241m2\u001b[39m])\n",
      "\u001b[1;31mAttributeError\u001b[0m: 'dict' object has no attribute 'append'"
     ]
    }
   ],
   "source": [
    "#dictonary remove\n",
    "a1={1:\"sci\",2:\"connda\",3:\"c++\"}\n",
    "\n",
    "a1.append(\"java\")\n",
    "a1.remove(a[2])"
   ]
  },
  {
   "cell_type": "code",
   "execution_count": 55,
   "id": "8f9ba927-648f-451a-a464-fc0519102a53",
   "metadata": {},
   "outputs": [
    {
     "name": "stdout",
     "output_type": "stream",
     "text": [
      "Name: rishikesh\n",
      "Age: 20\n",
      "Degree: currently pursuing Btech\n",
      "University: kiit\n",
      "school:Kendriya vidalaya balasore\n",
      "address:Balasore,odisha\n"
     ]
    }
   ],
   "source": [
    "#write a prog to print your bio data using python\n",
    "#wap swap two elements in the list\n",
    "#wap ways to check if elements exist in a list\n",
    "#wap smallest to largest in list\n",
    "#print all even no in tuple\n",
    "#print postive no in tuple\n",
    "\n",
    "#q1\n",
    "# User bio details\n",
    "name = \"rishikesh\"\n",
    "age = 20\n",
    "degree = \"currently pursuing Btech\"\n",
    "university = \"kiit\"\n",
    "school=\"Kendriya vidalaya balasore\"\n",
    "address=\"Balasore,odisha\"\n",
    "\n",
    "# Printing the details correctly\n",
    "print(f\"Name: {name}\")\n",
    "print(f\"Age: {age}\")\n",
    "print(f\"Degree: {degree}\")\n",
    "print(f\"University: {university}\")\n",
    "print(f\"school:{school}\")\n",
    "print(f\"address:{address}\")\n"
   ]
  },
  {
   "cell_type": "code",
   "execution_count": 49,
   "id": "ccb9648e-2ea7-4eb5-a175-e8434979258b",
   "metadata": {},
   "outputs": [
    {
     "name": "stdout",
     "output_type": "stream",
     "text": [
      "[2, 5, 6]\n"
     ]
    }
   ],
   "source": [
    "#q2\n",
    "a = [1, 2, 3]\n",
    "b = [2, 5, 6]\n",
    "\n",
    "a, b = b, a\n",
    "\n",
    "print(a)\n"
   ]
  },
  {
   "cell_type": "code",
   "execution_count": 50,
   "id": "d7b0689c-c29e-436c-9878-c1e6c3015a5f",
   "metadata": {},
   "outputs": [
    {
     "name": "stdout",
     "output_type": "stream",
     "text": [
      "3 exists in the list.\n"
     ]
    }
   ],
   "source": [
    "#q3\n",
    "a = [1, 2, 3, 4, 5]\n",
    "element = 3\n",
    "\n",
    "if element in a:\n",
    "    print(f\"{element} exists in the list.\")\n",
    "else:\n",
    "    print(f\"{element} does not exist in the list.\")\n"
   ]
  },
  {
   "cell_type": "code",
   "execution_count": 51,
   "id": "a8190435-4778-4bf0-8232-9ccc11f9de48",
   "metadata": {},
   "outputs": [
    {
     "name": "stdout",
     "output_type": "stream",
     "text": [
      "[1, 1, 2, 3, 3, 4, 5, 5, 5, 6, 9]\n"
     ]
    }
   ],
   "source": [
    "#q4\n",
    "a = [3, 1, 4, 1, 5, 9, 2, 6, 5, 3, 5]\n",
    "a.sort()\n",
    "print(a)  \n"
   ]
  },
  {
   "cell_type": "code",
   "execution_count": 52,
   "id": "9fb9b1c3-7a48-44f9-b494-da4fef03193b",
   "metadata": {},
   "outputs": [
    {
     "name": "stdout",
     "output_type": "stream",
     "text": [
      "Even numbers in the tuple are: [2, 4, 6, 8, 10]\n"
     ]
    }
   ],
   "source": [
    "#q5\n",
    "numbers = (1, 2, 3, 4, 5, 6, 7, 8, 9, 10)\n",
    "\n",
    "even_numbers = [num for num in numbers if num % 2 == 0]\n",
    "\n",
    "print(\"Even numbers in the tuple are:\", even_numbers)\n"
   ]
  },
  {
   "cell_type": "code",
   "execution_count": 53,
   "id": "5d8b259c-2981-48d4-a8f0-c7b757d51ff9",
   "metadata": {},
   "outputs": [
    {
     "name": "stdout",
     "output_type": "stream",
     "text": [
      "odd numbers in the tuple are: [1, 3, 9]\n"
     ]
    }
   ],
   "source": [
    "#q6\n",
    "numbers=(1,2,3,4,6,8,9,12)\n",
    "\n",
    "odd_numbers=[num for num in numbers if num %2!=0]\n",
    "\n",
    "print(\"odd numbers in the tuple are:\",odd_numbers)"
   ]
  },
  {
   "cell_type": "code",
   "execution_count": null,
   "id": "a62e9d23-f795-4552-a787-2f4f5bea5e22",
   "metadata": {},
   "outputs": [],
   "source": []
  }
 ],
 "metadata": {
  "kernelspec": {
   "display_name": "Python 3 (ipykernel)",
   "language": "python",
   "name": "python3"
  },
  "language_info": {
   "codemirror_mode": {
    "name": "ipython",
    "version": 3
   },
   "file_extension": ".py",
   "mimetype": "text/x-python",
   "name": "python",
   "nbconvert_exporter": "python",
   "pygments_lexer": "ipython3",
   "version": "3.12.7"
  }
 },
 "nbformat": 4,
 "nbformat_minor": 5
}
